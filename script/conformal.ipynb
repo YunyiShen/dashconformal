{
 "cells": [
  {
   "cell_type": "code",
   "execution_count": null,
   "id": "417edb8a-8af0-43dc-b3d5-66996f393a4e",
   "metadata": {},
   "outputs": [],
   "source": [
    "import astrodas"
   ]
  }
 ],
 "metadata": {
  "kernelspec": {
   "display_name": "Python [conda env:root] *",
   "language": "python",
   "name": "conda-root-py"
  },
  "language_info": {
   "codemirror_mode": {
    "name": "ipython",
    "version": 3
   },
   "file_extension": ".py",
   "mimetype": "text/x-python",
   "name": "python",
   "nbconvert_exporter": "python",
   "pygments_lexer": "ipython3",
   "version": "3.8.13"
  }
 },
 "nbformat": 4,
 "nbformat_minor": 5
}
